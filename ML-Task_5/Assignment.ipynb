{
 "cells": [
  {
   "cell_type": "code",
   "execution_count": 1,
   "id": "ce9c52a9",
   "metadata": {},
   "outputs": [],
   "source": [
    "import pandas as pd\n",
    "import datetime as dt"
   ]
  },
  {
   "cell_type": "code",
   "execution_count": 2,
   "id": "c6c0c262",
   "metadata": {},
   "outputs": [],
   "source": [
    "th_users = pd.read_csv(r\"C:\\Users\\HP\\OneDrive\\Desktop\\Data Science\\Assignment\\Assignment_3\\takehome_users.csv\",encoding='cp1252',index_col=\"object_id\")\n",
    "th_user_engagement = pd.read_csv(r\"C:\\Users\\HP\\OneDrive\\Desktop\\Data Science\\Assignment\\Assignment_3\\takehome_user_engagement.csv\",encoding='cp1252',index_col=\"user_id\")"
   ]
  },
  {
   "cell_type": "code",
   "execution_count": 3,
   "id": "1b0912db",
   "metadata": {},
   "outputs": [
    {
     "data": {
      "text/html": [
       "<div>\n",
       "<style scoped>\n",
       "    .dataframe tbody tr th:only-of-type {\n",
       "        vertical-align: middle;\n",
       "    }\n",
       "\n",
       "    .dataframe tbody tr th {\n",
       "        vertical-align: top;\n",
       "    }\n",
       "\n",
       "    .dataframe thead th {\n",
       "        text-align: right;\n",
       "    }\n",
       "</style>\n",
       "<table border=\"1\" class=\"dataframe\">\n",
       "  <thead>\n",
       "    <tr style=\"text-align: right;\">\n",
       "      <th></th>\n",
       "      <th>creation_time</th>\n",
       "      <th>name</th>\n",
       "      <th>email</th>\n",
       "      <th>creation_source</th>\n",
       "      <th>last_session_creation_time</th>\n",
       "      <th>opted_in_to_mailing_list</th>\n",
       "      <th>enabled_for_marketing_drip</th>\n",
       "      <th>org_id</th>\n",
       "      <th>invited_by_user_id</th>\n",
       "    </tr>\n",
       "    <tr>\n",
       "      <th>object_id</th>\n",
       "      <th></th>\n",
       "      <th></th>\n",
       "      <th></th>\n",
       "      <th></th>\n",
       "      <th></th>\n",
       "      <th></th>\n",
       "      <th></th>\n",
       "      <th></th>\n",
       "      <th></th>\n",
       "    </tr>\n",
       "  </thead>\n",
       "  <tbody>\n",
       "    <tr>\n",
       "      <th>1</th>\n",
       "      <td>2014-04-22 03:53:30</td>\n",
       "      <td>Clausen August</td>\n",
       "      <td>AugustCClausen@yahoo.com</td>\n",
       "      <td>GUEST_INVITE</td>\n",
       "      <td>1.398139e+09</td>\n",
       "      <td>1</td>\n",
       "      <td>0</td>\n",
       "      <td>11</td>\n",
       "      <td>10803.0</td>\n",
       "    </tr>\n",
       "    <tr>\n",
       "      <th>2</th>\n",
       "      <td>2013-11-15 03:45:04</td>\n",
       "      <td>Poole Matthew</td>\n",
       "      <td>MatthewPoole@gustr.com</td>\n",
       "      <td>ORG_INVITE</td>\n",
       "      <td>1.396238e+09</td>\n",
       "      <td>0</td>\n",
       "      <td>0</td>\n",
       "      <td>1</td>\n",
       "      <td>316.0</td>\n",
       "    </tr>\n",
       "  </tbody>\n",
       "</table>\n",
       "</div>"
      ],
      "text/plain": [
       "                 creation_time            name                     email  \\\n",
       "object_id                                                                  \n",
       "1          2014-04-22 03:53:30  Clausen August  AugustCClausen@yahoo.com   \n",
       "2          2013-11-15 03:45:04   Poole Matthew    MatthewPoole@gustr.com   \n",
       "\n",
       "          creation_source  last_session_creation_time  \\\n",
       "object_id                                               \n",
       "1            GUEST_INVITE                1.398139e+09   \n",
       "2              ORG_INVITE                1.396238e+09   \n",
       "\n",
       "           opted_in_to_mailing_list  enabled_for_marketing_drip  org_id  \\\n",
       "object_id                                                                 \n",
       "1                                 1                           0      11   \n",
       "2                                 0                           0       1   \n",
       "\n",
       "           invited_by_user_id  \n",
       "object_id                      \n",
       "1                     10803.0  \n",
       "2                       316.0  "
      ]
     },
     "execution_count": 3,
     "metadata": {},
     "output_type": "execute_result"
    }
   ],
   "source": [
    "th_users.head(2)"
   ]
  },
  {
   "cell_type": "code",
   "execution_count": 4,
   "id": "5f4bd99a",
   "metadata": {
    "scrolled": true
   },
   "outputs": [
    {
     "data": {
      "text/plain": [
       "(12000, 9)"
      ]
     },
     "execution_count": 4,
     "metadata": {},
     "output_type": "execute_result"
    }
   ],
   "source": [
    "th_users.shape"
   ]
  },
  {
   "cell_type": "code",
   "execution_count": 5,
   "id": "9e97432a",
   "metadata": {
    "scrolled": true
   },
   "outputs": [
    {
     "data": {
      "text/html": [
       "<div>\n",
       "<style scoped>\n",
       "    .dataframe tbody tr th:only-of-type {\n",
       "        vertical-align: middle;\n",
       "    }\n",
       "\n",
       "    .dataframe tbody tr th {\n",
       "        vertical-align: top;\n",
       "    }\n",
       "\n",
       "    .dataframe thead th {\n",
       "        text-align: right;\n",
       "    }\n",
       "</style>\n",
       "<table border=\"1\" class=\"dataframe\">\n",
       "  <thead>\n",
       "    <tr style=\"text-align: right;\">\n",
       "      <th></th>\n",
       "      <th>time_stamp</th>\n",
       "      <th>visited</th>\n",
       "    </tr>\n",
       "    <tr>\n",
       "      <th>user_id</th>\n",
       "      <th></th>\n",
       "      <th></th>\n",
       "    </tr>\n",
       "  </thead>\n",
       "  <tbody>\n",
       "    <tr>\n",
       "      <th>1</th>\n",
       "      <td>2014-04-22 03:53:30</td>\n",
       "      <td>1</td>\n",
       "    </tr>\n",
       "    <tr>\n",
       "      <th>2</th>\n",
       "      <td>2013-11-15 03:45:04</td>\n",
       "      <td>1</td>\n",
       "    </tr>\n",
       "    <tr>\n",
       "      <th>2</th>\n",
       "      <td>2013-11-29 03:45:04</td>\n",
       "      <td>1</td>\n",
       "    </tr>\n",
       "    <tr>\n",
       "      <th>2</th>\n",
       "      <td>2013-12-09 03:45:04</td>\n",
       "      <td>1</td>\n",
       "    </tr>\n",
       "    <tr>\n",
       "      <th>2</th>\n",
       "      <td>2013-12-25 03:45:04</td>\n",
       "      <td>1</td>\n",
       "    </tr>\n",
       "    <tr>\n",
       "      <th>...</th>\n",
       "      <td>...</td>\n",
       "      <td>...</td>\n",
       "    </tr>\n",
       "    <tr>\n",
       "      <th>11996</th>\n",
       "      <td>2013-09-06 06:14:15</td>\n",
       "      <td>1</td>\n",
       "    </tr>\n",
       "    <tr>\n",
       "      <th>11997</th>\n",
       "      <td>2013-01-15 18:28:37</td>\n",
       "      <td>1</td>\n",
       "    </tr>\n",
       "    <tr>\n",
       "      <th>11998</th>\n",
       "      <td>2014-04-27 12:45:16</td>\n",
       "      <td>1</td>\n",
       "    </tr>\n",
       "    <tr>\n",
       "      <th>11999</th>\n",
       "      <td>2012-06-02 11:55:59</td>\n",
       "      <td>1</td>\n",
       "    </tr>\n",
       "    <tr>\n",
       "      <th>12000</th>\n",
       "      <td>2014-01-26 08:57:12</td>\n",
       "      <td>1</td>\n",
       "    </tr>\n",
       "  </tbody>\n",
       "</table>\n",
       "<p>207917 rows × 2 columns</p>\n",
       "</div>"
      ],
      "text/plain": [
       "                  time_stamp  visited\n",
       "user_id                              \n",
       "1        2014-04-22 03:53:30        1\n",
       "2        2013-11-15 03:45:04        1\n",
       "2        2013-11-29 03:45:04        1\n",
       "2        2013-12-09 03:45:04        1\n",
       "2        2013-12-25 03:45:04        1\n",
       "...                      ...      ...\n",
       "11996    2013-09-06 06:14:15        1\n",
       "11997    2013-01-15 18:28:37        1\n",
       "11998    2014-04-27 12:45:16        1\n",
       "11999    2012-06-02 11:55:59        1\n",
       "12000    2014-01-26 08:57:12        1\n",
       "\n",
       "[207917 rows x 2 columns]"
      ]
     },
     "execution_count": 5,
     "metadata": {},
     "output_type": "execute_result"
    }
   ],
   "source": [
    "th_user_engagement"
   ]
  },
  {
   "cell_type": "code",
   "execution_count": 6,
   "id": "0fdb8def",
   "metadata": {},
   "outputs": [
    {
     "data": {
      "text/plain": [
       "time_stamp    207917\n",
       "visited       207917\n",
       "dtype: int64"
      ]
     },
     "execution_count": 6,
     "metadata": {},
     "output_type": "execute_result"
    }
   ],
   "source": [
    "th_user_engagement.isna().count()"
   ]
  },
  {
   "cell_type": "code",
   "execution_count": 7,
   "id": "35633217",
   "metadata": {
    "scrolled": true
   },
   "outputs": [
    {
     "data": {
      "text/plain": [
       "user_id\n",
       "1         1\n",
       "2        14\n",
       "3         1\n",
       "4         1\n",
       "5         1\n",
       "         ..\n",
       "11996     1\n",
       "11997     1\n",
       "11998     1\n",
       "11999     1\n",
       "12000     1\n",
       "Name: visited, Length: 8823, dtype: int64"
      ]
     },
     "execution_count": 7,
     "metadata": {},
     "output_type": "execute_result"
    }
   ],
   "source": [
    "visit_grp = th_user_engagement.groupby(\"user_id\").visited.count()\n",
    "visit_grp"
   ]
  },
  {
   "cell_type": "code",
   "execution_count": 8,
   "id": "179495ae",
   "metadata": {},
   "outputs": [],
   "source": [
    "users = visit_grp[ visit_grp > 2 ]\n",
    "th_user_engag_upd = (users.to_frame()).join(th_user_engagement,rsuffix='_y').drop(\"visited_y\",axis=1)"
   ]
  },
  {
   "cell_type": "code",
   "execution_count": 9,
   "id": "bb6a3eb1",
   "metadata": {},
   "outputs": [
    {
     "name": "stdout",
     "output_type": "stream",
     "text": [
      "Int64Index([    2,    10,    20,    33,    42,    43,    50,    53,    59,\n",
      "               60,\n",
      "            ...\n",
      "            11961, 11964, 11965, 11967, 11969, 11975, 11980, 11981, 11988,\n",
      "            11991],\n",
      "           dtype='int64', name='user_id', length=2248)\n",
      "2248\n"
     ]
    }
   ],
   "source": [
    "print(th_user_engag_upd.index.unique())\n",
    "print(len(th_user_engag_upd.index.unique()))"
   ]
  },
  {
   "cell_type": "code",
   "execution_count": 10,
   "id": "9ffc87b9",
   "metadata": {},
   "outputs": [],
   "source": [
    "def day_count(time_data):\n",
    "    return dt.datetime.strptime(time_data, \"%Y-%m-%d %H:%M:%S\").date()"
   ]
  },
  {
   "cell_type": "code",
   "execution_count": 11,
   "id": "286faae5",
   "metadata": {
    "scrolled": true
   },
   "outputs": [
    {
     "data": {
      "text/html": [
       "<div>\n",
       "<style scoped>\n",
       "    .dataframe tbody tr th:only-of-type {\n",
       "        vertical-align: middle;\n",
       "    }\n",
       "\n",
       "    .dataframe tbody tr th {\n",
       "        vertical-align: top;\n",
       "    }\n",
       "\n",
       "    .dataframe thead th {\n",
       "        text-align: right;\n",
       "    }\n",
       "</style>\n",
       "<table border=\"1\" class=\"dataframe\">\n",
       "  <thead>\n",
       "    <tr style=\"text-align: right;\">\n",
       "      <th></th>\n",
       "      <th>visited</th>\n",
       "      <th>time_stamp</th>\n",
       "      <th>date</th>\n",
       "    </tr>\n",
       "    <tr>\n",
       "      <th>user_id</th>\n",
       "      <th></th>\n",
       "      <th></th>\n",
       "      <th></th>\n",
       "    </tr>\n",
       "  </thead>\n",
       "  <tbody>\n",
       "    <tr>\n",
       "      <th>2</th>\n",
       "      <td>14</td>\n",
       "      <td>2013-11-15 03:45:04</td>\n",
       "      <td>2013-11-15</td>\n",
       "    </tr>\n",
       "    <tr>\n",
       "      <th>2</th>\n",
       "      <td>14</td>\n",
       "      <td>2013-11-29 03:45:04</td>\n",
       "      <td>2013-11-29</td>\n",
       "    </tr>\n",
       "    <tr>\n",
       "      <th>2</th>\n",
       "      <td>14</td>\n",
       "      <td>2013-12-09 03:45:04</td>\n",
       "      <td>2013-12-09</td>\n",
       "    </tr>\n",
       "    <tr>\n",
       "      <th>2</th>\n",
       "      <td>14</td>\n",
       "      <td>2013-12-25 03:45:04</td>\n",
       "      <td>2013-12-25</td>\n",
       "    </tr>\n",
       "    <tr>\n",
       "      <th>2</th>\n",
       "      <td>14</td>\n",
       "      <td>2013-12-31 03:45:04</td>\n",
       "      <td>2013-12-31</td>\n",
       "    </tr>\n",
       "    <tr>\n",
       "      <th>...</th>\n",
       "      <td>...</td>\n",
       "      <td>...</td>\n",
       "      <td>...</td>\n",
       "    </tr>\n",
       "    <tr>\n",
       "      <th>11991</th>\n",
       "      <td>5</td>\n",
       "      <td>2014-04-20 14:22:45</td>\n",
       "      <td>2014-04-20</td>\n",
       "    </tr>\n",
       "    <tr>\n",
       "      <th>11991</th>\n",
       "      <td>5</td>\n",
       "      <td>2014-04-25 14:22:45</td>\n",
       "      <td>2014-04-25</td>\n",
       "    </tr>\n",
       "    <tr>\n",
       "      <th>11991</th>\n",
       "      <td>5</td>\n",
       "      <td>2014-04-28 14:22:45</td>\n",
       "      <td>2014-04-28</td>\n",
       "    </tr>\n",
       "    <tr>\n",
       "      <th>11991</th>\n",
       "      <td>5</td>\n",
       "      <td>2014-05-17 14:22:45</td>\n",
       "      <td>2014-05-17</td>\n",
       "    </tr>\n",
       "    <tr>\n",
       "      <th>11991</th>\n",
       "      <td>5</td>\n",
       "      <td>2014-05-30 14:22:45</td>\n",
       "      <td>2014-05-30</td>\n",
       "    </tr>\n",
       "  </tbody>\n",
       "</table>\n",
       "<p>201002 rows × 3 columns</p>\n",
       "</div>"
      ],
      "text/plain": [
       "         visited           time_stamp        date\n",
       "user_id                                          \n",
       "2             14  2013-11-15 03:45:04  2013-11-15\n",
       "2             14  2013-11-29 03:45:04  2013-11-29\n",
       "2             14  2013-12-09 03:45:04  2013-12-09\n",
       "2             14  2013-12-25 03:45:04  2013-12-25\n",
       "2             14  2013-12-31 03:45:04  2013-12-31\n",
       "...          ...                  ...         ...\n",
       "11991          5  2014-04-20 14:22:45  2014-04-20\n",
       "11991          5  2014-04-25 14:22:45  2014-04-25\n",
       "11991          5  2014-04-28 14:22:45  2014-04-28\n",
       "11991          5  2014-05-17 14:22:45  2014-05-17\n",
       "11991          5  2014-05-30 14:22:45  2014-05-30\n",
       "\n",
       "[201002 rows x 3 columns]"
      ]
     },
     "execution_count": 11,
     "metadata": {},
     "output_type": "execute_result"
    }
   ],
   "source": [
    "th_user_engag_upd[\"date\"] = th_user_engag_upd.time_stamp.apply(day_count)\n",
    "th_user_engag_upd"
   ]
  },
  {
   "cell_type": "code",
   "execution_count": 12,
   "id": "c92fc195",
   "metadata": {},
   "outputs": [],
   "source": [
    "adopted_user_list=[]\n",
    "def calc(user_id_grp):\n",
    "    user_id_grp[\"date_shift\"] = user_id_grp[\"date\"].shift(1)\n",
    "    x = (user_id_grp[\"date\"]-user_id_grp[\"date_shift\"]).fillna(\"0 days\")\n",
    "    y = [int(str(i).split()[0]) for i in x.to_list()]\n",
    "    for i in range(1,len(y)-1):\n",
    "        if y[i]+y[i+1] < 8:\n",
    "            adopted_user_list.append(int(user_id_grp.index[0]))\n",
    "            break"
   ]
  },
  {
   "cell_type": "code",
   "execution_count": 13,
   "id": "951620b4",
   "metadata": {},
   "outputs": [
    {
     "data": {
      "text/html": [
       "<div>\n",
       "<style scoped>\n",
       "    .dataframe tbody tr th:only-of-type {\n",
       "        vertical-align: middle;\n",
       "    }\n",
       "\n",
       "    .dataframe tbody tr th {\n",
       "        vertical-align: top;\n",
       "    }\n",
       "\n",
       "    .dataframe thead th {\n",
       "        text-align: right;\n",
       "    }\n",
       "</style>\n",
       "<table border=\"1\" class=\"dataframe\">\n",
       "  <thead>\n",
       "    <tr style=\"text-align: right;\">\n",
       "      <th></th>\n",
       "    </tr>\n",
       "  </thead>\n",
       "  <tbody>\n",
       "  </tbody>\n",
       "</table>\n",
       "</div>"
      ],
      "text/plain": [
       "Empty DataFrame\n",
       "Columns: []\n",
       "Index: []"
      ]
     },
     "execution_count": 13,
     "metadata": {},
     "output_type": "execute_result"
    }
   ],
   "source": [
    "th_user_engag_upd.groupby(\"user_id\").apply(calc)"
   ]
  },
  {
   "cell_type": "code",
   "execution_count": 14,
   "id": "9edba8fb",
   "metadata": {},
   "outputs": [
    {
     "data": {
      "text/plain": [
       "1656"
      ]
     },
     "execution_count": 14,
     "metadata": {},
     "output_type": "execute_result"
    }
   ],
   "source": [
    "len(adopted_user_list)"
   ]
  },
  {
   "cell_type": "code",
   "execution_count": 15,
   "id": "2de2f325",
   "metadata": {},
   "outputs": [
    {
     "data": {
      "text/html": [
       "<div>\n",
       "<style scoped>\n",
       "    .dataframe tbody tr th:only-of-type {\n",
       "        vertical-align: middle;\n",
       "    }\n",
       "\n",
       "    .dataframe tbody tr th {\n",
       "        vertical-align: top;\n",
       "    }\n",
       "\n",
       "    .dataframe thead th {\n",
       "        text-align: right;\n",
       "    }\n",
       "</style>\n",
       "<table border=\"1\" class=\"dataframe\">\n",
       "  <thead>\n",
       "    <tr style=\"text-align: right;\">\n",
       "      <th></th>\n",
       "      <th>creation_time</th>\n",
       "      <th>name</th>\n",
       "      <th>email</th>\n",
       "      <th>creation_source</th>\n",
       "      <th>last_session_creation_time</th>\n",
       "      <th>opted_in_to_mailing_list</th>\n",
       "      <th>enabled_for_marketing_drip</th>\n",
       "      <th>org_id</th>\n",
       "      <th>invited_by_user_id</th>\n",
       "    </tr>\n",
       "    <tr>\n",
       "      <th>object_id</th>\n",
       "      <th></th>\n",
       "      <th></th>\n",
       "      <th></th>\n",
       "      <th></th>\n",
       "      <th></th>\n",
       "      <th></th>\n",
       "      <th></th>\n",
       "      <th></th>\n",
       "      <th></th>\n",
       "    </tr>\n",
       "  </thead>\n",
       "  <tbody>\n",
       "    <tr>\n",
       "      <th>1</th>\n",
       "      <td>2014-04-22 03:53:30</td>\n",
       "      <td>Clausen August</td>\n",
       "      <td>AugustCClausen@yahoo.com</td>\n",
       "      <td>GUEST_INVITE</td>\n",
       "      <td>1.398139e+09</td>\n",
       "      <td>1</td>\n",
       "      <td>0</td>\n",
       "      <td>11</td>\n",
       "      <td>10803.0</td>\n",
       "    </tr>\n",
       "    <tr>\n",
       "      <th>2</th>\n",
       "      <td>2013-11-15 03:45:04</td>\n",
       "      <td>Poole Matthew</td>\n",
       "      <td>MatthewPoole@gustr.com</td>\n",
       "      <td>ORG_INVITE</td>\n",
       "      <td>1.396238e+09</td>\n",
       "      <td>0</td>\n",
       "      <td>0</td>\n",
       "      <td>1</td>\n",
       "      <td>316.0</td>\n",
       "    </tr>\n",
       "  </tbody>\n",
       "</table>\n",
       "</div>"
      ],
      "text/plain": [
       "                 creation_time            name                     email  \\\n",
       "object_id                                                                  \n",
       "1          2014-04-22 03:53:30  Clausen August  AugustCClausen@yahoo.com   \n",
       "2          2013-11-15 03:45:04   Poole Matthew    MatthewPoole@gustr.com   \n",
       "\n",
       "          creation_source  last_session_creation_time  \\\n",
       "object_id                                               \n",
       "1            GUEST_INVITE                1.398139e+09   \n",
       "2              ORG_INVITE                1.396238e+09   \n",
       "\n",
       "           opted_in_to_mailing_list  enabled_for_marketing_drip  org_id  \\\n",
       "object_id                                                                 \n",
       "1                                 1                           0      11   \n",
       "2                                 0                           0       1   \n",
       "\n",
       "           invited_by_user_id  \n",
       "object_id                      \n",
       "1                     10803.0  \n",
       "2                       316.0  "
      ]
     },
     "execution_count": 15,
     "metadata": {},
     "output_type": "execute_result"
    }
   ],
   "source": [
    "th_users.head(2)"
   ]
  },
  {
   "cell_type": "code",
   "execution_count": 16,
   "id": "55d4f54f",
   "metadata": {},
   "outputs": [],
   "source": [
    "for i in th_users.index:\n",
    "    if i in adopted_user_list:\n",
    "        th_users.loc[i,\"adopted_user\"]=1\n",
    "    else:\n",
    "        th_users.loc[i,\"adopted_user\"]=0"
   ]
  },
  {
   "cell_type": "code",
   "execution_count": 18,
   "id": "c893dafa",
   "metadata": {},
   "outputs": [
    {
     "data": {
      "text/html": [
       "<div>\n",
       "<style scoped>\n",
       "    .dataframe tbody tr th:only-of-type {\n",
       "        vertical-align: middle;\n",
       "    }\n",
       "\n",
       "    .dataframe tbody tr th {\n",
       "        vertical-align: top;\n",
       "    }\n",
       "\n",
       "    .dataframe thead th {\n",
       "        text-align: right;\n",
       "    }\n",
       "</style>\n",
       "<table border=\"1\" class=\"dataframe\">\n",
       "  <thead>\n",
       "    <tr style=\"text-align: right;\">\n",
       "      <th></th>\n",
       "      <th>creation_time</th>\n",
       "      <th>creation_source</th>\n",
       "      <th>last_session_creation_time</th>\n",
       "      <th>opted_in_to_mailing_list</th>\n",
       "      <th>enabled_for_marketing_drip</th>\n",
       "      <th>org_id</th>\n",
       "      <th>invited_by_user_id</th>\n",
       "      <th>adopted_user</th>\n",
       "    </tr>\n",
       "  </thead>\n",
       "  <tbody>\n",
       "    <tr>\n",
       "      <th>0</th>\n",
       "      <td>2014-04-22 03:53:30</td>\n",
       "      <td>GUEST_INVITE</td>\n",
       "      <td>1.398139e+09</td>\n",
       "      <td>1</td>\n",
       "      <td>0</td>\n",
       "      <td>11</td>\n",
       "      <td>10803.0</td>\n",
       "      <td>0.0</td>\n",
       "    </tr>\n",
       "    <tr>\n",
       "      <th>1</th>\n",
       "      <td>2013-11-15 03:45:04</td>\n",
       "      <td>ORG_INVITE</td>\n",
       "      <td>1.396238e+09</td>\n",
       "      <td>0</td>\n",
       "      <td>0</td>\n",
       "      <td>1</td>\n",
       "      <td>316.0</td>\n",
       "      <td>1.0</td>\n",
       "    </tr>\n",
       "  </tbody>\n",
       "</table>\n",
       "</div>"
      ],
      "text/plain": [
       "         creation_time creation_source  last_session_creation_time  \\\n",
       "0  2014-04-22 03:53:30    GUEST_INVITE                1.398139e+09   \n",
       "1  2013-11-15 03:45:04      ORG_INVITE                1.396238e+09   \n",
       "\n",
       "   opted_in_to_mailing_list  enabled_for_marketing_drip  org_id  \\\n",
       "0                         1                           0      11   \n",
       "1                         0                           0       1   \n",
       "\n",
       "   invited_by_user_id  adopted_user  \n",
       "0             10803.0           0.0  \n",
       "1               316.0           1.0  "
      ]
     },
     "execution_count": 18,
     "metadata": {},
     "output_type": "execute_result"
    }
   ],
   "source": [
    "df = th_users.copy()\n",
    "df.reset_index(inplace=True)\n",
    "df.drop([\"object_id\",\"name\",\"email\"],axis=1,inplace= True)\n",
    "df.head(2)"
   ]
  },
  {
   "cell_type": "code",
   "execution_count": 21,
   "id": "d5a8d5af",
   "metadata": {
    "scrolled": true
   },
   "outputs": [
    {
     "data": {
      "text/plain": [
       "creation_time                    0\n",
       "creation_source                  0\n",
       "last_session_creation_time    3177\n",
       "opted_in_to_mailing_list         0\n",
       "enabled_for_marketing_drip       0\n",
       "org_id                           0\n",
       "invited_by_user_id            5583\n",
       "adopted_user                     0\n",
       "dtype: int64"
      ]
     },
     "execution_count": 21,
     "metadata": {},
     "output_type": "execute_result"
    }
   ],
   "source": [
    "df.isna().sum()"
   ]
  },
  {
   "cell_type": "code",
   "execution_count": 19,
   "id": "108e5277",
   "metadata": {},
   "outputs": [
    {
     "name": "stdout",
     "output_type": "stream",
     "text": [
      "<class 'pandas.core.frame.DataFrame'>\n",
      "RangeIndex: 12000 entries, 0 to 11999\n",
      "Data columns (total 8 columns):\n",
      " #   Column                      Non-Null Count  Dtype  \n",
      "---  ------                      --------------  -----  \n",
      " 0   creation_time               12000 non-null  object \n",
      " 1   creation_source             12000 non-null  object \n",
      " 2   last_session_creation_time  8823 non-null   float64\n",
      " 3   opted_in_to_mailing_list    12000 non-null  int64  \n",
      " 4   enabled_for_marketing_drip  12000 non-null  int64  \n",
      " 5   org_id                      12000 non-null  int64  \n",
      " 6   invited_by_user_id          6417 non-null   float64\n",
      " 7   adopted_user                12000 non-null  float64\n",
      "dtypes: float64(3), int64(3), object(2)\n",
      "memory usage: 750.1+ KB\n"
     ]
    }
   ],
   "source": [
    "df.info()"
   ]
  },
  {
   "cell_type": "code",
   "execution_count": 20,
   "id": "db321926",
   "metadata": {},
   "outputs": [
    {
     "data": {
      "text/html": [
       "<div>\n",
       "<style scoped>\n",
       "    .dataframe tbody tr th:only-of-type {\n",
       "        vertical-align: middle;\n",
       "    }\n",
       "\n",
       "    .dataframe tbody tr th {\n",
       "        vertical-align: top;\n",
       "    }\n",
       "\n",
       "    .dataframe thead th {\n",
       "        text-align: right;\n",
       "    }\n",
       "</style>\n",
       "<table border=\"1\" class=\"dataframe\">\n",
       "  <thead>\n",
       "    <tr style=\"text-align: right;\">\n",
       "      <th></th>\n",
       "      <th>count</th>\n",
       "      <th>mean</th>\n",
       "      <th>std</th>\n",
       "      <th>min</th>\n",
       "      <th>25%</th>\n",
       "      <th>50%</th>\n",
       "      <th>75%</th>\n",
       "      <th>max</th>\n",
       "    </tr>\n",
       "  </thead>\n",
       "  <tbody>\n",
       "    <tr>\n",
       "      <th>last_session_creation_time</th>\n",
       "      <td>8823.0</td>\n",
       "      <td>1.379279e+09</td>\n",
       "      <td>1.953116e+07</td>\n",
       "      <td>1.338452e+09</td>\n",
       "      <td>1.363195e+09</td>\n",
       "      <td>1.382888e+09</td>\n",
       "      <td>1.398443e+09</td>\n",
       "      <td>1.402067e+09</td>\n",
       "    </tr>\n",
       "    <tr>\n",
       "      <th>opted_in_to_mailing_list</th>\n",
       "      <td>12000.0</td>\n",
       "      <td>2.495000e-01</td>\n",
       "      <td>4.327417e-01</td>\n",
       "      <td>0.000000e+00</td>\n",
       "      <td>0.000000e+00</td>\n",
       "      <td>0.000000e+00</td>\n",
       "      <td>0.000000e+00</td>\n",
       "      <td>1.000000e+00</td>\n",
       "    </tr>\n",
       "    <tr>\n",
       "      <th>enabled_for_marketing_drip</th>\n",
       "      <td>12000.0</td>\n",
       "      <td>1.493333e-01</td>\n",
       "      <td>3.564316e-01</td>\n",
       "      <td>0.000000e+00</td>\n",
       "      <td>0.000000e+00</td>\n",
       "      <td>0.000000e+00</td>\n",
       "      <td>0.000000e+00</td>\n",
       "      <td>1.000000e+00</td>\n",
       "    </tr>\n",
       "    <tr>\n",
       "      <th>org_id</th>\n",
       "      <td>12000.0</td>\n",
       "      <td>1.418846e+02</td>\n",
       "      <td>1.240567e+02</td>\n",
       "      <td>0.000000e+00</td>\n",
       "      <td>2.900000e+01</td>\n",
       "      <td>1.080000e+02</td>\n",
       "      <td>2.382500e+02</td>\n",
       "      <td>4.160000e+02</td>\n",
       "    </tr>\n",
       "    <tr>\n",
       "      <th>invited_by_user_id</th>\n",
       "      <td>6417.0</td>\n",
       "      <td>5.962957e+03</td>\n",
       "      <td>3.383762e+03</td>\n",
       "      <td>3.000000e+00</td>\n",
       "      <td>3.058000e+03</td>\n",
       "      <td>5.954000e+03</td>\n",
       "      <td>8.817000e+03</td>\n",
       "      <td>1.199900e+04</td>\n",
       "    </tr>\n",
       "    <tr>\n",
       "      <th>adopted_user</th>\n",
       "      <td>12000.0</td>\n",
       "      <td>1.380000e-01</td>\n",
       "      <td>3.449144e-01</td>\n",
       "      <td>0.000000e+00</td>\n",
       "      <td>0.000000e+00</td>\n",
       "      <td>0.000000e+00</td>\n",
       "      <td>0.000000e+00</td>\n",
       "      <td>1.000000e+00</td>\n",
       "    </tr>\n",
       "  </tbody>\n",
       "</table>\n",
       "</div>"
      ],
      "text/plain": [
       "                              count          mean           std           min  \\\n",
       "last_session_creation_time   8823.0  1.379279e+09  1.953116e+07  1.338452e+09   \n",
       "opted_in_to_mailing_list    12000.0  2.495000e-01  4.327417e-01  0.000000e+00   \n",
       "enabled_for_marketing_drip  12000.0  1.493333e-01  3.564316e-01  0.000000e+00   \n",
       "org_id                      12000.0  1.418846e+02  1.240567e+02  0.000000e+00   \n",
       "invited_by_user_id           6417.0  5.962957e+03  3.383762e+03  3.000000e+00   \n",
       "adopted_user                12000.0  1.380000e-01  3.449144e-01  0.000000e+00   \n",
       "\n",
       "                                     25%           50%           75%  \\\n",
       "last_session_creation_time  1.363195e+09  1.382888e+09  1.398443e+09   \n",
       "opted_in_to_mailing_list    0.000000e+00  0.000000e+00  0.000000e+00   \n",
       "enabled_for_marketing_drip  0.000000e+00  0.000000e+00  0.000000e+00   \n",
       "org_id                      2.900000e+01  1.080000e+02  2.382500e+02   \n",
       "invited_by_user_id          3.058000e+03  5.954000e+03  8.817000e+03   \n",
       "adopted_user                0.000000e+00  0.000000e+00  0.000000e+00   \n",
       "\n",
       "                                     max  \n",
       "last_session_creation_time  1.402067e+09  \n",
       "opted_in_to_mailing_list    1.000000e+00  \n",
       "enabled_for_marketing_drip  1.000000e+00  \n",
       "org_id                      4.160000e+02  \n",
       "invited_by_user_id          1.199900e+04  \n",
       "adopted_user                1.000000e+00  "
      ]
     },
     "execution_count": 20,
     "metadata": {},
     "output_type": "execute_result"
    }
   ],
   "source": [
    "df.describe().T"
   ]
  },
  {
   "cell_type": "code",
   "execution_count": 22,
   "id": "1517d89e",
   "metadata": {},
   "outputs": [
    {
     "data": {
      "text/plain": [
       "creation_time                  object\n",
       "creation_source                object\n",
       "last_session_creation_time    float64\n",
       "opted_in_to_mailing_list        int64\n",
       "enabled_for_marketing_drip      int64\n",
       "org_id                          int64\n",
       "invited_by_user_id            float64\n",
       "adopted_user                  float64\n",
       "dtype: object"
      ]
     },
     "execution_count": 22,
     "metadata": {},
     "output_type": "execute_result"
    }
   ],
   "source": [
    "df.dtypes"
   ]
  },
  {
   "cell_type": "code",
   "execution_count": 24,
   "id": "1ffd823d",
   "metadata": {},
   "outputs": [
    {
     "data": {
      "text/plain": [
       "ORG_INVITE            4254\n",
       "GUEST_INVITE          2163\n",
       "PERSONAL_PROJECTS     2111\n",
       "SIGNUP                2087\n",
       "SIGNUP_GOOGLE_AUTH    1385\n",
       "Name: creation_source, dtype: int64"
      ]
     },
     "execution_count": 24,
     "metadata": {},
     "output_type": "execute_result"
    }
   ],
   "source": [
    "df.creation_source.value_counts()"
   ]
  },
  {
   "cell_type": "code",
   "execution_count": 30,
   "id": "4fc10db6",
   "metadata": {},
   "outputs": [
    {
     "data": {
      "text/plain": [
       "10741.0    13\n",
       "2527.0     12\n",
       "1525.0     11\n",
       "11770.0    11\n",
       "2308.0     11\n",
       "           ..\n",
       "1390.0      1\n",
       "5445.0      1\n",
       "8526.0      1\n",
       "4695.0      1\n",
       "5450.0      1\n",
       "Name: invited_by_user_id, Length: 2564, dtype: int64"
      ]
     },
     "execution_count": 30,
     "metadata": {},
     "output_type": "execute_result"
    }
   ],
   "source": [
    "df.invited_by_user_id.value_counts()"
   ]
  },
  {
   "cell_type": "code",
   "execution_count": null,
   "id": "5b95be41",
   "metadata": {},
   "outputs": [],
   "source": []
  }
 ],
 "metadata": {
  "kernelspec": {
   "display_name": "Python 3 (ipykernel)",
   "language": "python",
   "name": "python3"
  },
  "language_info": {
   "codemirror_mode": {
    "name": "ipython",
    "version": 3
   },
   "file_extension": ".py",
   "mimetype": "text/x-python",
   "name": "python",
   "nbconvert_exporter": "python",
   "pygments_lexer": "ipython3",
   "version": "3.10.2"
  }
 },
 "nbformat": 4,
 "nbformat_minor": 5
}
