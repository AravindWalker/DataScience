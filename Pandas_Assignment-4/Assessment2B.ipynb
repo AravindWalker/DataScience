{
 "cells": [
  {
   "cell_type": "markdown",
   "metadata": {
    "id": "wrDixJrDmw3p"
   },
   "source": [
    "###### Assessment"
   ]
  },
  {
   "cell_type": "markdown",
   "metadata": {
    "id": "KOr8JkKrmw3w"
   },
   "source": [
    "###### I am going to provide two .csv files , you are supposed to work on them and have to provide solutions to the following problems"
   ]
  },
  {
   "cell_type": "markdown",
   "metadata": {
    "id": "UuzGBs7pmw3x"
   },
   "source": [
    "###### import necessary libraries"
   ]
  },
  {
   "cell_type": "code",
   "execution_count": null,
   "metadata": {
    "id": "qnkwUPNNmw3x"
   },
   "outputs": [],
   "source": [
    "import pandas as pd\n",
    "import numpy as np"
   ]
  },
  {
   "cell_type": "markdown",
   "metadata": {
    "id": "XkIWRm8Lmw3y"
   },
   "source": [
    "###### merge those two csv files (after getting as dataframes, get them as a single dataframe)"
   ]
  },
  {
   "cell_type": "code",
   "execution_count": null,
   "metadata": {
    "id": "8XnhS3mfmw3y"
   },
   "outputs": [],
   "source": [
    "df1=pd.read_csv(r\"C:\\Users\\HP\\OneDrive\\Desktop\\Data Science\\Assignment\\college_1.csv\")\n",
    "df2=pd.read_csv(r\"C:\\Users\\HP\\OneDrive\\Desktop\\Data Science\\Assignment\\college_2.csv\")\n",
    "print(df1.shape,df2.shape)"
   ]
  },
  {
   "cell_type": "code",
   "execution_count": null,
   "metadata": {},
   "outputs": [],
   "source": [
    "print(df1.isna().sum())\n",
    "df1.head(2)"
   ]
  },
  {
   "cell_type": "code",
   "execution_count": null,
   "metadata": {
    "scrolled": true
   },
   "outputs": [],
   "source": [
    "print(df2.isna().sum())\n",
    "df2.tail(2)"
   ]
  },
  {
   "cell_type": "code",
   "execution_count": null,
   "metadata": {
    "scrolled": false
   },
   "outputs": [],
   "source": [
    "df_m=pd.concat([df1,df2],ignore_index=True)\n",
    "# df_m.fillna(0,inplace=True)\n",
    "print(df_m.isna().sum())"
   ]
  },
  {
   "cell_type": "markdown",
   "metadata": {
    "id": "jSJXjfXUmw3y"
   },
   "source": [
    "###### Take each csv file , split that csv file into multiple categories (example csv files are added in the repo) \n"
   ]
  },
  {
   "cell_type": "markdown",
   "metadata": {
    "id": "DcGezXRfmw3z"
   },
   "source": [
    "###### consider if the codekata score exceeds 15000 points(present week) then make a csv on those observations as Exceeded expectations.csv\n"
   ]
  },
  {
   "cell_type": "markdown",
   "metadata": {
    "id": "2JWVaLRXmw3z"
   },
   "source": [
    "###### if  10000<codekata score<15000   (Reached_expectations.csv)\n",
    "\n"
   ]
  },
  {
   "cell_type": "markdown",
   "metadata": {
    "id": "kaoZpQsRmw3z"
   },
   "source": [
    "###### if  7000<codekata score<10000   (Needs_Improvement.csv)\n"
   ]
  },
  {
   "cell_type": "markdown",
   "metadata": {
    "id": "SmznBnu8mw3z"
   },
   "source": [
    "###### if  codekate score < 7000        (Unsatisfactory.csv)"
   ]
  },
  {
   "cell_type": "code",
   "execution_count": null,
   "metadata": {
    "id": "nYJ7oespmw3z"
   },
   "outputs": [],
   "source": [
    "Reached_expectations = df_m.loc[ (df_m[\"CodeKata Score\"]>10000) & (df_m[\"CodeKata Score\"]<15000) ]\n",
    "Needs_Improvement = df_m.loc[ (df_m[\"CodeKata Score\"]>7000) & (df_m[\"CodeKata Score\"]<10000) ]\n",
    "Unsatisfactory = df_m.loc[ df_m[\"CodeKata Score\"]<7000 ]"
   ]
  },
  {
   "cell_type": "markdown",
   "metadata": {
    "id": "oOE00SHSmw30"
   },
   "source": [
    "###### Average of previous week geekions vs this week geekions (i.e Previous Geekions vs CodeKata Score)"
   ]
  },
  {
   "cell_type": "code",
   "execution_count": null,
   "metadata": {
    "id": "q90oBixDmw30"
   },
   "outputs": [],
   "source": [
    "print(df_m[\"Previous Geekions\"].mean())"
   ]
  },
  {
   "cell_type": "code",
   "execution_count": null,
   "metadata": {},
   "outputs": [],
   "source": [
    "print(df_m[\"CodeKata Score\"].mean())"
   ]
  },
  {
   "cell_type": "markdown",
   "metadata": {
    "id": "tLuWsCkcmw30"
   },
   "source": [
    "###### No of students participated "
   ]
  },
  {
   "cell_type": "code",
   "execution_count": null,
   "metadata": {
    "id": "_dBwCP5pmw30"
   },
   "outputs": [],
   "source": [
    "print(df_m.shape[0])"
   ]
  },
  {
   "cell_type": "markdown",
   "metadata": {
    "id": "R4IWdilXmw30"
   },
   "source": [
    "###### #Average completion of python course or my_sql or python english or computational thinking"
   ]
  },
  {
   "cell_type": "code",
   "execution_count": null,
   "metadata": {
    "id": "jDqp_4a5mw30",
    "scrolled": true
   },
   "outputs": [],
   "source": [
    "print(\"Average completion of python course : \", df_m[\"python\"].mean())\n",
    "print(\"Average completion of my_sql : \", df_m[\"mysql\"].mean())\n",
    "print(\"Average completion of python english : \", df_m[\"python_en\"].mean())\n",
    "print(\"Average completion of computational thinking : \",df_m[\"computational_thinking\"].mean())"
   ]
  },
  {
   "cell_type": "markdown",
   "metadata": {
    "id": "yoDU0M7dmw30"
   },
   "source": [
    "###### rising star of the week (top 3 candidate who performed well in that particular week)"
   ]
  },
  {
   "cell_type": "code",
   "execution_count": null,
   "metadata": {
    "id": "lR6Q_ubzmw30"
   },
   "outputs": [],
   "source": [
    "df_m.sort_values(by=\"Rising\",ascending=False).head(3)"
   ]
  },
  {
   "cell_type": "markdown",
   "metadata": {
    "id": "JqyUK5D0mw30"
   },
   "source": [
    "###### Shining stars of the week (top 3 candidates who has highest geekions)"
   ]
  },
  {
   "cell_type": "code",
   "execution_count": null,
   "metadata": {
    "id": "Rhhcg6Y7mw30"
   },
   "outputs": [],
   "source": [
    "df_m.sort_values(by=\"Previous Geekions\",ascending=False).head(3)"
   ]
  },
  {
   "cell_type": "markdown",
   "metadata": {
    "id": "YgMXtb3Tmw30"
   },
   "source": [
    "###### Department wise codekata performence (pie chart)"
   ]
  },
  {
   "cell_type": "code",
   "execution_count": null,
   "metadata": {
    "id": "_8rq9GZfmw30"
   },
   "outputs": [],
   "source": [
    "import plotly.express as px\n",
    "fig = px.pie(df_m ,values='CodeKata Score', names='Department')\n",
    "fig.show()"
   ]
  },
  {
   "cell_type": "markdown",
   "metadata": {
    "id": "v3q-pwFtmw30"
   },
   "source": [
    "###### Department wise toppers (horizantal bar graph or any visual representations of your choice)"
   ]
  },
  {
   "cell_type": "code",
   "execution_count": null,
   "metadata": {
    "id": "YC5Ga4Ejmw31"
   },
   "outputs": [],
   "source": [
    "df_m.groupby(\"Department\").max()[\"CodeKata Score\"]"
   ]
  },
  {
   "cell_type": "code",
   "execution_count": null,
   "metadata": {},
   "outputs": [],
   "source": [
    "df_dept=df_m.groupby(\"Department\").max()[\"CodeKata Score\"].reset_index()"
   ]
  },
  {
   "cell_type": "code",
   "execution_count": null,
   "metadata": {},
   "outputs": [],
   "source": [
    "df_dept"
   ]
  },
  {
   "cell_type": "code",
   "execution_count": null,
   "metadata": {},
   "outputs": [],
   "source": [
    "fig = px.bar(df_dept,x=\"Department\",y=\"CodeKata Score\",title=\"Department wise top score\")\n",
    "fig.show()"
   ]
  },
  {
   "cell_type": "code",
   "execution_count": null,
   "metadata": {},
   "outputs": [],
   "source": []
  }
 ],
 "metadata": {
  "colab": {
   "provenance": []
  },
  "kernelspec": {
   "display_name": "Python 3 (ipykernel)",
   "language": "python",
   "name": "python3"
  },
  "language_info": {
   "codemirror_mode": {
    "name": "ipython",
    "version": 3
   },
   "file_extension": ".py",
   "mimetype": "text/x-python",
   "name": "python",
   "nbconvert_exporter": "python",
   "pygments_lexer": "ipython3",
   "version": "3.10.2"
  }
 },
 "nbformat": 4,
 "nbformat_minor": 1
}
