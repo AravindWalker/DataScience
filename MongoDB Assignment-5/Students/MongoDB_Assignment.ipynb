{
 "cells": [
  {
   "cell_type": "code",
   "execution_count": null,
   "id": "8398303e",
   "metadata": {},
   "outputs": [],
   "source": [
    "import json\n",
    "import pymongo\n",
    "serv_id = input(\"Please enter MongoDB server that you need to connect: \")\n",
    "client = pymongo.MongoClient(serv_id)\n",
    "db = client.Task_1\n",
    "records=db.Students"
   ]
  },
  {
   "cell_type": "code",
   "execution_count": null,
   "id": "3dea34c8",
   "metadata": {},
   "outputs": [],
   "source": [
    "data=open(\"students.json\")\n",
    "for i in data:\n",
    "    records.insert_one(json.loads(i))"
   ]
  },
  {
   "cell_type": "code",
   "execution_count": null,
   "id": "7b095bc4",
   "metadata": {},
   "outputs": [],
   "source": [
    "records.count_documents({})"
   ]
  },
  {
   "cell_type": "code",
   "execution_count": null,
   "id": "da3e3b6d",
   "metadata": {},
   "outputs": [],
   "source": [
    "exam_max=0\n",
    "quiz_max=0\n",
    "hmwork_max=0\n",
    "for i in records.find({},{\"scores\":1,\"_id\":0}):\n",
    "    if i[\"scores\"][0][\"score\"] > exam_max:\n",
    "        exam_max= i[\"scores\"][0][\"score\"]\n",
    "    if i[\"scores\"][1][\"score\"] > quiz_max:\n",
    "        quiz_max= i[\"scores\"][1][\"score\"]\n",
    "    if i[\"scores\"][2][\"score\"] > hmwork_max:\n",
    "        hmwork_max= i[\"scores\"][2][\"score\"]\n",
    "print(\"exam_max: \",exam_max)\n",
    "print(\"quiz_max: \",quiz_max)\n",
    "print(\"hmwork_max: \",hmwork_max)"
   ]
  },
  {
   "cell_type": "markdown",
   "id": "54043b2a",
   "metadata": {},
   "source": [
    "## Find the student name who scored maximum scores in all (exam, quiz and homework)?"
   ]
  },
  {
   "cell_type": "code",
   "execution_count": null,
   "id": "b1d9af92",
   "metadata": {},
   "outputs": [],
   "source": [
    "for i in records.find({\"scores.0.score\":{\"$eq\":99.33685767140612}}):\n",
    "    print(\"Student with maximum score in Exam \")\n",
    "    print(i)\n",
    "    print(\"\\n\")\n",
    "for i in records.find({\"scores.1.score\":{\"$eq\":99.80348240553108}}):\n",
    "    print(\"Student with maximum score in Quiz \")\n",
    "    print(i)\n",
    "    print(\"\\n\")\n",
    "for i in records.find({\"scores.2.score\":{\"$eq\":99.77237745070993}}):\n",
    "    print(\"Student with maximum score in Homework \")\n",
    "    print(i)\n",
    "    print(\"\\n\")"
   ]
  },
  {
   "cell_type": "markdown",
   "id": "9def6189",
   "metadata": {},
   "source": [
    "## Find students who scored below average in the exam and pass mark is 40%?\n",
    "###  Find students who scored below pass mark and assigned them as fail, and above pass mark as pass in all the categories."
   ]
  },
  {
   "cell_type": "code",
   "execution_count": null,
   "id": "7814896f",
   "metadata": {},
   "outputs": [],
   "source": [
    "myquery1 = {\"scores.0.score\":{\"$gt\":40}}\n",
    "newvalues1 = {\"$set\": { \"Exam_status\": \"Pass\"} }\n",
    "myquery2=  {\"scores.0.score\":{\"$lt\":40}}\n",
    "newvalues2 = {\"$set\": { \"Exam_status\": \"Fail\"} }\n",
    "records.update_many(myquery1, newvalues1)\n",
    "records.update_many(myquery2, newvalues2)\n",
    "for i in records.find():\n",
    "    print(i)"
   ]
  },
  {
   "cell_type": "markdown",
   "id": "b4f18a93",
   "metadata": {},
   "source": [
    "##  Find the total and average of the exam, quiz and homework and store them in a separate collection."
   ]
  },
  {
   "cell_type": "code",
   "execution_count": null,
   "id": "9e8c32ec",
   "metadata": {},
   "outputs": [],
   "source": [
    "records=db.Students\n",
    "exam_score=0\n",
    "quiz_score=0\n",
    "hmwork_score=0\n",
    "for i in records.find({},{\"scores\":1,\"_id\":0}):\n",
    "        exam_score = exam_score + i[\"scores\"][0][\"score\"]\n",
    "        quiz_score = quiz_score + i[\"scores\"][1][\"score\"]\n",
    "        hmwork_score = hmwork_score + i[\"scores\"][2][\"score\"]\n",
    "totals_dict = {\"name\":\"Total_Stat\",\"Exam_total\" : exam_score,\"Quiz_total\" : quiz_score,\"Homework_total\" : hmwork_score}\n",
    "avgs_dict = {\"name\":\"Avg_Stat\",\"Exam_avg\" : exam_score/200 ,\"Quiz_avg\" : quiz_score/200 ,\"Homework_avg\" : hmwork_score/200 }\n",
    "# records.insert_many([totals_dict,avgs_dict])\n",
    "print(totals_dict)\n",
    "print(avgs_dict)"
   ]
  },
  {
   "cell_type": "code",
   "execution_count": null,
   "id": "12b625c3",
   "metadata": {},
   "outputs": [],
   "source": [
    "records=db.Stats"
   ]
  },
  {
   "cell_type": "code",
   "execution_count": null,
   "id": "cf00cac4",
   "metadata": {},
   "outputs": [],
   "source": [
    "records.insert_one(totals_dict)\n",
    "records.insert_one(avgs_dict)"
   ]
  },
  {
   "cell_type": "markdown",
   "id": "85f6ba21",
   "metadata": {},
   "source": [
    " ## Create a new collection which consists of students who scored below average and above 40% in all the categories.\n",
    " \n",
    " ### Create a new collection which consists of students who scored below the fail mark in all the categories.\n",
    " ### Create a new collection which consists of students who scored above pass mark in all the categories."
   ]
  },
  {
   "cell_type": "code",
   "execution_count": null,
   "id": "8993f8b7",
   "metadata": {},
   "outputs": [],
   "source": [
    "records=db.Students\n",
    "record_pass=db.pass_stat\n",
    "record_fail=db.fail_stat\n",
    "for i in records.find({\"scores.0.score\":{\"$gt\":40}}):\n",
    "    record_pass.insert_one(i)\n",
    "for i in records.find({\"scores.0.score\":{\"$lt\":40}}):\n",
    "    record_fail.insert_one(i)"
   ]
  },
  {
   "cell_type": "code",
   "execution_count": null,
   "id": "12b77d34",
   "metadata": {},
   "outputs": [],
   "source": []
  }
 ],
 "metadata": {
  "kernelspec": {
   "display_name": "Python 3 (ipykernel)",
   "language": "python",
   "name": "python3"
  },
  "language_info": {
   "codemirror_mode": {
    "name": "ipython",
    "version": 3
   },
   "file_extension": ".py",
   "mimetype": "text/x-python",
   "name": "python",
   "nbconvert_exporter": "python",
   "pygments_lexer": "ipython3",
   "version": "3.10.2"
  }
 },
 "nbformat": 4,
 "nbformat_minor": 5
}
